{
 "cells": [
  {
   "cell_type": "code",
   "execution_count": 2,
   "metadata": {
    "metadata": {}
   },
   "outputs": [
    {
     "name": "stderr",
     "output_type": "stream",
     "text": [
      "/Users/adityagupta/pytorch-test/env/lib/python3.8/site-packages/pinecone/index.py:4: TqdmExperimentalWarning: Using `tqdm.autonotebook.tqdm` in notebook mode. Use `tqdm.tqdm` instead to force console mode (e.g. in jupyter console)\n",
      "  from tqdm.autonotebook import tqdm\n"
     ]
    }
   ],
   "source": [
    "import numpy as np\n",
    "import pandas as pd\n",
    "import matplotlib.pyplot as plt\n",
    "from tqdm import tqdm\n",
    "import json\n",
    "import time\n",
    "import os\n",
    "import shutil\n",
    "\n",
    "\n",
    "import spotipy\n",
    "import spotipy.oauth2 as oauth2\n",
    "from spotipy.oauth2 import SpotifyOAuth,SpotifyClientCredentials\n",
    "\n",
    "import pinecone\n",
    "from urllib.request import urlretrieve"
   ]
  },
  {
   "cell_type": "code",
   "execution_count": 97,
   "metadata": {
    "metadata": {}
   },
   "outputs": [],
   "source": [
    "spotify_details = {\n",
    "    # Fill in your token\n",
    "    'Client_id': '',\n",
    "    'client_secret': ''\n",
    "}\n",
    "\n",
    "auth_manager = SpotifyClientCredentials(client_id=spotify_details['Client_id'], client_secret=spotify_details['client_secret'])\n",
    "sp = spotipy.client.Spotify(auth_manager=auth_manager)"
   ]
  },
  {
   "cell_type": "code",
   "execution_count": 118,
   "metadata": {
    "metadata": {}
   },
   "outputs": [],
   "source": [
    "# Code to use spotify search\n",
    "file = \"songs.csv\"\n",
    "df = pd.read_csv(f'file')\n",
    "new_cols = ['spotify_name', 'uri', 'preview_url', 'popularity', 'duration_ms', 'explicit', 'ext_url', 'id']\n",
    "for col in new_cols: df[col] = ''\n",
    "\n",
    "for idx in tqdm(df.index):\n",
    "    artist_name = df.loc[idx, 'Artist']\n",
    "    track_name = df.loc[idx, 'Title']\n",
    "\n",
    "    # Spotify API Call #\n",
    "    results = sp.search(q=f\"track:{track_name} artist:{artist_name}\", type=\"track\", limit=1)\n",
    "    try:\n",
    "        track = results['tracks']['items'][0]\n",
    "    except:\n",
    "        print(f\"Index {idx} of {file} returned no results\")\n",
    "        pass\n",
    "    # ---------------- #\n",
    "\n",
    "    try:\n",
    "        df.loc[idx, 'duration_ms'] = track['duration_ms']\n",
    "        df.loc[idx, 'explicit'] = track['explicit']\n",
    "        df.loc[idx, 'ext_url'] = track['external_urls']['spotify']\n",
    "        df.loc[idx, 'id'] = track['id']\n",
    "        df.loc[idx, 'spotify_name'] = track['name']\n",
    "        df.loc[idx, 'popularity'] = track['popularity']\n",
    "        df.loc[idx, 'uri'] = track['uri']\n",
    "        df.loc[idx, 'preview_url'] = track['preview_url']\n",
    "    except:\n",
    "        print(f\"Result has missing value, index {idx} of {file}\")\n",
    "        pass\n",
    "\n",
    "df.to_csv(f'{file}', index=False)\n",
    "print(f\"{file} completed\")"
   ]
  },
  {
   "cell_type": "code",
   "execution_count": 189,
   "metadata": {
    "metadata": {}
   },
   "outputs": [
    {
     "name": "stderr",
     "output_type": "stream",
     "text": [
      "100%|█████████████████████████████████████| 5600/5600 [2:13:55<00:00,  1.43s/it]\n"
     ]
    }
   ],
   "source": [
    "# Code to download audio files\n",
    "os.mkdir('audio')\n",
    "for idx in tqdm(ss_df.index):\n",
    "    track_id = ss_df.loc[idx, 'track_id']\n",
    "    url = ss_df.loc[idx, 'preview_url']\n",
    "    urlretrieve(url, f\"audio/{track_id}.mp3\")"
   ]
  },
  {
   "cell_type": "code",
   "execution_count": 3,
   "metadata": {
    "metadata": {}
   },
   "outputs": [],
   "source": [
    "# Code to preprocess (normalise) audio features\n",
    "ss_df = pd.read_csv('ss_links.csv')\n",
    "\n",
    "ft_cols = ['track_popularity', 'track_album_release_date', 'danceability', 'energy', 'key', 'loudness', 'mode', 'speechiness',\n",
    "            'acousticness', 'instrumentalness', 'liveness', 'valence', 'tempo']\n",
    "\n",
    "ss_df['track_popularity'] = ss_df['track_popularity'].apply(lambda x: x/100)\n",
    "ss_df['track_album_release_date'] = ss_df['track_album_release_date'].apply(lambda x: (int(x[:4]) - 1950)/70)\n",
    "\n",
    "ss_df['loudness'] = ss_df['loudness'].apply(lambda x: (x+60)/60)\n",
    "ss_df['tempo'] = ss_df['tempo'].apply(lambda x: x/300)\n",
    "ss_df['key'] = ss_df['key'].apply(lambda x: np.power(2, (x-12)/12))\n",
    "\n",
    "ss_df['ft_vec'] = None\n",
    "for idx in ss_df.index:\n",
    "    ss_df.loc[idx, 'ft_vec'] = str(list(ss_df.loc[idx, ft_cols]))\n",
    "\n",
    "ss_df.to_csv('dataset.csv')"
   ]
  },
  {
   "cell_type": "code",
   "execution_count": null,
   "metadata": {},
   "outputs": [],
   "source": [
    "# Code to fetch features\n",
    "def get_features(tracks, window_size=50):\n",
    "\n",
    "    dropped_row_counter = 0\n",
    "    df = pd.DataFrame()\n",
    "\n",
    "    for i in tqdm(range(0, len(tracks), window_size)):\n",
    "\n",
    "        try:        \n",
    "            audio_features = pd.DataFrame([t for t in sp.audio_features(tracks[i:i+window_size]) if t != None])\n",
    "            track_features = pd.DataFrame([t for t in sp.tracks(tracks[i:i+window_size])['tracks'] if t != None])\n",
    "\n",
    "            track_features['release_year'] = track_features['album'].apply(lambda x: (int(x['release_date'][:4]) - 1950)/70)\n",
    "            track_features['popularity'] = track_features['popularity'].apply(lambda x: x/100)\n",
    "            track_features['explicit'] = track_features['explicit'].astype(int)\n",
    "            track_features = track_features[['explicit', 'popularity', 'release_year', 'id']]\n",
    "            \n",
    "            audio_features.drop(['type', 'uri', 'track_href', 'analysis_url', 'duration_ms'], axis='columns', inplace=True)\n",
    "            audio_features['loudness'] = audio_features['loudness'].apply(lambda x: (x+60)/60)\n",
    "            audio_features['tempo'] = audio_features['tempo'].apply(lambda x: x/300)\n",
    "            audio_features['time_signature'] = audio_features['time_signature'].apply(lambda x: (x-3)/4)\n",
    "            audio_features['key'] = audio_features['key'].apply(lambda x: np.power(2, (x-12)/12))     # Converting key to frequency ratio wrt max key\n",
    "\n",
    "            all_fts = pd.merge(audio_features, track_features, on='id', how='inner')\n",
    "            df = pd.concat([df, all_fts])\n",
    "\n",
    "            if all_fts.shape[0] != window_size:\n",
    "                dropped_row_counter += window_size - all_fts.shape[0]\n",
    "                print(f\"{window_size - all_fts.shape[0]} rows dropped in section {i}-{i+window_size}\")\n",
    "        except:\n",
    "            print(f\"{i}-{i+window_size} section failed\")\n",
    "            pass\n",
    "    \n",
    "    return df"
   ]
  }
 ],
 "metadata": {
  "kernelspec": {
   "display_name": "Python 3 (ipykernel)",
   "language": "python",
   "name": "python3"
  },
  "language_info": {
   "codemirror_mode": {
    "name": "ipython",
    "version": 3
   },
   "file_extension": ".py",
   "mimetype": "text/x-python",
   "name": "python",
   "nbconvert_exporter": "python",
   "pygments_lexer": "ipython3",
   "version": "3.8.15"
  }
 },
 "nbformat": 4,
 "nbformat_minor": 2
}
